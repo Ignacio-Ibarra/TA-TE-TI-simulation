{
  "nbformat": 4,
  "nbformat_minor": 0,
  "metadata": {
    "colab": {
      "name": "TA-TE-TI suerte para mi.ipynb",
      "provenance": [],
      "collapsed_sections": [],
      "authorship_tag": "ABX9TyPLGsn9W95GVTRyJklEH0Rd",
      "include_colab_link": true
    },
    "kernelspec": {
      "name": "python3",
      "display_name": "Python 3"
    }
  },
  "cells": [
    {
      "cell_type": "markdown",
      "metadata": {
        "id": "view-in-github",
        "colab_type": "text"
      },
      "source": [
        "<a href=\"https://colab.research.google.com/github/Ignacio-Ibarra/TA-TE-TI-simulation/blob/master/TA_TE_TI_suerte_para_mi.ipynb\" target=\"_parent\"><img src=\"https://colab.research.google.com/assets/colab-badge.svg\" alt=\"Open In Colab\"/></a>"
      ]
    },
    {
      "cell_type": "markdown",
      "metadata": {
        "id": "J0v7dk6kOg-f",
        "colab_type": "text"
      },
      "source": [
        "El tres en línea, también conocido como Ceros y Cruces, tres en raya (España, Ecuador y Bolivia), Michi (en Perú), Triqui (en Colombia), Cuadritos, juego del gato, Gato (en Chile, Costa Rica y México), Tatetí (en Argentina, Paraguay y Uruguay), Totito (en Guatemala), Triqui traka, Equis Cero, Tic-Tac-Toe (en Estados Unidos), o la vieja (en Venezuela), es un juego de lápiz y papel entre dos jugadores: O y X, que marcan los espacios de un tablero de 3×3 alternadamente."
      ]
    },
    {
      "cell_type": "markdown",
      "metadata": {
        "id": "prc4JDQPOq4d",
        "colab_type": "text"
      },
      "source": [
        "Los jugadores no tardan en descubrir que el juego perfecto termina en empate sin importar con qué juega el primer jugador. Normalmente son los niños pequeños los que juegan al tres en raya: cuando ya han descubierto una estrategia imbatible se pasan a juegos más sofisticados, como el de puntos y cajas."
      ]
    },
    {
      "cell_type": "markdown",
      "metadata": {
        "id": "8tiKavTTOr4c",
        "colab_type": "text"
      },
      "source": [
        "La misma simplicidad del juego de tres en raya lo hacen ideal como herramienta pedagógica para enseñar los conceptos de teoría de juegos y la rama de inteligencia artificial que se encarga de la búsqueda de árboles de juego."
      ]
    },
    {
      "cell_type": "markdown",
      "metadata": {
        "id": "WTdCNdSBMlrw",
        "colab_type": "text"
      },
      "source": [
        "# Objetivo\n",
        "\n",
        "Si jugamos al ta-te-ti (en papel y lápiz) con una estrategia aleatoria, ubicamos alternadamente X y O en las casillas vacías, en cuántas movidas promedio gana X? \n",
        "\n",
        "Comienza X desde un tablero vacío; sólo contar las partidas que X gana, es decir, hace 3-en-línea y lo hace antes que O. Una vez que hay ta-te-ti, la partida se termina. "
      ]
    },
    {
      "cell_type": "code",
      "metadata": {
        "id": "rx5-pnI-O930",
        "colab_type": "code",
        "colab": {}
      },
      "source": [
        "import random "
      ],
      "execution_count": 76,
      "outputs": []
    },
    {
      "cell_type": "code",
      "metadata": {
        "id": "wZtrObbQcPOQ",
        "colab_type": "code",
        "colab": {}
      },
      "source": [
        "def absolut_difference(lst,last_n):\n",
        "  if len(lst)>last_n: \n",
        "    first = lst[-last_n:]\n",
        "    last = lst[len(lst)-1]\n",
        "    return ((first - last)**2)**0.5\n",
        "  else:\n",
        "    return 0.01\n"
      ],
      "execution_count": 77,
      "outputs": []
    },
    {
      "cell_type": "code",
      "metadata": {
        "id": "SfHW7O9UM_bj",
        "colab_type": "code",
        "colab": {}
      },
      "source": [
        "def cvariation(lst):\n",
        "    mean = float(sum(lst)) / len(lst)\n",
        "    variance = sum([((x - mean) ** 2) for x in lst]) / (len(lst)-1)\n",
        "    stddev = variance ** 0.5\n",
        "    return stddev / mean\n"
      ],
      "execution_count": 78,
      "outputs": []
    },
    {
      "cell_type": "code",
      "metadata": {
        "id": "9OJ55sSeAIsB",
        "colab_type": "code",
        "colab": {}
      },
      "source": [
        "def is_a_winner(lista): \n",
        "  if any([all(elem in lista for elem in [0,3,6]),\n",
        "          all(elem in lista for elem in [1,4,7]),\n",
        "          all(elem in lista for elem in [2,5,8]),\n",
        "          all(elem in lista for elem in [0,1,2]),\n",
        "          all(elem in lista for elem in [3,4,5]),\n",
        "          all(elem in lista for elem in [6,7,8]),\n",
        "          all(elem in lista for elem in [0,4,8]), \n",
        "          all(elem in lista for elem in [2,4,6])]) == True and (len(x)>2): \n",
        "    return True\n",
        "  else:\n",
        "    return False"
      ],
      "execution_count": 79,
      "outputs": []
    },
    {
      "cell_type": "code",
      "metadata": {
        "id": "FLPB9wErysD2",
        "colab_type": "code",
        "colab": {
          "base_uri": "https://localhost:8080/",
          "height": 190
        },
        "outputId": "c335899f-ff5a-483f-88d8-f0bd333c2e75"
      },
      "source": [
        "#Simulación de N juegos. \n",
        "\n",
        "empate = 0\n",
        "gana_x = 0\n",
        "gana_o = 0.0\n",
        "suma_x = 0.0\n",
        "suma_o = 0.0\n",
        "acumulado_x = []\n",
        "acumulado_o = []\n",
        "number_games = 1000000\n",
        "for i in range(number_games): \n",
        "  \n",
        "  #Este es mi tablero, cada nro es una posición\n",
        "  tablero = list(range(9))\n",
        "\n",
        "  #Selecciones de lugares para 'x' y 'o'\n",
        "  x = []\n",
        "  status_x = 'not a winner'\n",
        "  o = []\n",
        "  status_o = 'not a winner'\n",
        "  match = 'not finished'\n",
        "\n",
        "  while match != 'finished':\n",
        "    if len(o) == 4: \n",
        "        match = 'finished'\n",
        "    \n",
        "    selection_x = random.choice(tablero)\n",
        "    x.append(selection_x)\n",
        "    \n",
        "    if is_a_winner(x):\n",
        "        \n",
        "        status_x = 'winner'\n",
        "        \n",
        "        match = 'finished'\n",
        "    if len(x) == 5: \n",
        "      match = 'finished'\n",
        "    \n",
        "    if match != 'finished': \n",
        "      \n",
        "      tablero_nuevo = []\n",
        "      for item in tablero: \n",
        "        if item not in x and item not in o: \n",
        "          tablero_nuevo.append(item)\n",
        "      tablero = tablero_nuevo\n",
        "      selection_o = random.choice(tablero)\n",
        "      o.append(selection_o)\n",
        "      \n",
        "      if is_a_winner(o):\n",
        "          \n",
        "          status_o='winner'\n",
        "          \n",
        "          match = 'finished'  \n",
        "      \n",
        "      tablero_nuevo = []\n",
        "      for item in tablero: \n",
        "        if item not in x and item not in o: \n",
        "          tablero_nuevo.append(item)\n",
        "      tablero = tablero_nuevo\n",
        "\n",
        "  if i>100 and cvariation(acumulado_x[-100:]) < 0.000001:\n",
        "    print('Early Stopping on iteration nro {}'.format(i),'\\n')\n",
        "    print(acumulado_x[-10:])\n",
        "    print('The Coefficient of Variation is ',cvariation(acumulado[-20:]))\n",
        "    break\n",
        "  \n",
        "  if status_x == 'winner' and status_o == 'not a winner':\n",
        "    gana_x += 1\n",
        "    suma_x += len(x)\n",
        "    average_x = suma_x / gana_x\n",
        "    acumulado_x.append(average_x)\n",
        "  elif status_x == 'not a winner' and status_o == 'winner':\n",
        "     gana_o += 1\n",
        "     suma_o += len(o)\n",
        "     average_o = suma_o / gana_o\n",
        "     acumulado_o.append(average_o)\n",
        "  else:\n",
        "     empate += 1\n",
        "  \n",
        "\n",
        "print('----'*75)\n",
        "print('Number of games', i)\n",
        "print('Percentage of times there is a draw:', round(100*empate/i,2)) \n",
        "print('Percentage of times where X wins:', round(100*gana_x/i,2), 'Length average:', average_x)\n",
        "print('Percentage of times where O wins:', round(100*gana_o/i,2), 'Length average:', average_o)"
      ],
      "execution_count": 100,
      "outputs": [
        {
          "output_type": "stream",
          "text": [
            "Early Stopping on iteration nro 344737 \n",
            "\n",
            "[4.222713293650794, 4.22271714922049, 4.222716044483685, 4.222719900001488, 4.222713835042955, 4.22271273033903, 4.222711625646062, 4.222710520964053, 4.222714376413634, 4.22271327172894]\n",
            "The Coefficient of Variation is  0.0\n",
            "------------------------------------------------------------------------------------------------------------------------------------------------------------------------------------------------------------------------------------------------------------------------------------------------------------\n",
            "Number of games 344737\n",
            "Percentage of times there is a draw: 12.66\n",
            "Percentage of times where X wins: 58.48 Length average: 4.22271327172894\n",
            "Percentage of times where O wins: 28.86 Length average: 3.6936754920290293\n"
          ],
          "name": "stdout"
        }
      ]
    },
    {
      "cell_type": "code",
      "metadata": {
        "id": "vdr-TNyzGWsG",
        "colab_type": "code",
        "colab": {
          "base_uri": "https://localhost:8080/",
          "height": 297
        },
        "outputId": "4986e63e-9308-4bcf-c631-81d18372be12"
      },
      "source": [
        "import matplotlib.pyplot as plt\n",
        "%matplotlib inline\n",
        "\n",
        "points = 100\n",
        "bin_x = gana_x//points\n",
        "indixes_x = list(range(bin_x, gana_x, bin_x))\n",
        "\n",
        "values_x = []\n",
        "for i in indixes_x:\n",
        "  value_x = acumulado_x[i]\n",
        "  values_x.append(value_x)\n",
        "\n",
        "plt.plot(indixes_x,values_x)\n",
        "plt.title('Convergencia: Movidas promedio de X para ganar')\n",
        "plt.xlabel('Cantidad de Partidas')\n",
        "plt.ylabel('Promedio Movidas')\n",
        "plt.tight_layout()\n",
        "# plt.savefig('convergencia.png',dpi=200)\n",
        "# from google.colab import files\n",
        "# files.download('convergencia.png')"
      ],
      "execution_count": 120,
      "outputs": [
        {
          "output_type": "display_data",
          "data": {
            "image/png": "[encoded data removed]",
            "text/plain": [
              "<Figure size 432x288 with 1 Axes>"
            ]
          },
          "metadata": {
            "tags": [],
            "needs_background": "light"
          }
        }
      ]
    },
    {
      "cell_type": "code",
      "metadata": {
        "id": "Dq9M1MheNpuv",
        "colab_type": "code",
        "colab": {
          "base_uri": "https://localhost:8080/",
          "height": 34
        },
        "outputId": "29fcb084-9af6-4cd2-e6b0-04be2510ea76"
      },
      "source": [
        "bin_o"
      ],
      "execution_count": 104,
      "outputs": [
        {
          "output_type": "execute_result",
          "data": {
            "text/plain": [
              "994"
            ]
          },
          "metadata": {
            "tags": []
          },
          "execution_count": 104
        }
      ]
    }
  ]
}